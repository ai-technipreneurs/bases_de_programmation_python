{
 "cells": [
  {
   "cell_type": "markdown",
   "metadata": {},
   "source": [
    "****\n",
    "\n",
    "# <center> <b> <span style=\"color:orange;\"> Programmation en Python </span> </b></center>\n",
    "\n",
    "## <center> <b> <span style=\"color:green;\">Des applications en Calcul Scientifique -  Statistiques -  Science des Données</span> </b></center>\n",
    "\n",
    "\n",
    "\n",
    "****"
   ]
  },
  {
   "cell_type": "markdown",
   "metadata": {},
   "source": [
    "## Sommaire\n",
    "\n",
    "### [0. Introduction](00.Introduction_a_python.ipynb)\n",
    "### [1. Variables et Affectations](01.Variables_et_affectations.ipynb)\n",
    "### [2. Chaînes de caractères](02-Chaînes_de_caractères.ipynb)\n",
    "### [3. Objets itérables ou conteneurs](03.Objets_itérables_ou_conteneurs.ipynb)\n",
    "### [4. Contrôle du flux d'instructions](04.Contrôle_du_flux_d_instructions.ipynb)\n",
    "### [5. Fonctions,Modules et Packages](05.Fonctions_Modules_et_Packages.ipynb)\n",
    "### [6. Classes et POO](06.Classes_et_POO.ipynb)\n",
    "\n",
    "\n"
   ]
  }
 ],
 "metadata": {
  "kernelspec": {
   "display_name": "Python 3",
   "language": "python",
   "name": "python3"
  },
  "language_info": {
   "codemirror_mode": {
    "name": "ipython",
    "version": 3
   },
   "file_extension": ".py",
   "mimetype": "text/x-python",
   "name": "python",
   "nbconvert_exporter": "python",
   "pygments_lexer": "ipython3",
   "version": "3.7.3"
  }
 },
 "nbformat": 4,
 "nbformat_minor": 2
}
